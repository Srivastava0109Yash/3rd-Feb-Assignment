{
 "cells": [
  {
   "cell_type": "markdown",
   "id": "768a3520",
   "metadata": {},
   "source": [
    "### Q1. Which keyword is used to create a function? Create a function to return a list of odd numbers in the  range of 1 to 25. "
   ]
  },
  {
   "cell_type": "code",
   "execution_count": 2,
   "id": "7ae2b5a7",
   "metadata": {},
   "outputs": [],
   "source": [
    "# 'def' keyword is used to create function in python"
   ]
  },
  {
   "cell_type": "code",
   "execution_count": 21,
   "id": "9db2ef0f",
   "metadata": {},
   "outputs": [
    {
     "name": "stdout",
     "output_type": "stream",
     "text": [
      "List of odd numbers from 1 to 25: [1, 3, 5, 7, 9, 11, 13, 15, 17, 19, 21, 23, 25]\n"
     ]
    }
   ],
   "source": [
    "def odd_numbers():\n",
    "    odd = []\n",
    "    for i in range(1, 26):\n",
    "        if i % 2 != 0:\n",
    "            odd.append(i)\n",
    "    return odd\n",
    "\n",
    "print(\"List of odd numbers from 1 to 25:\", odd_numbers())"
   ]
  },
  {
   "cell_type": "markdown",
   "id": "9a237f90",
   "metadata": {},
   "source": [
    "### Q2. Why *args and **kwargs is used in some functions? Create a function each for **args and **kwargs  to demonstrate their use. "
   ]
  },
  {
   "cell_type": "markdown",
   "id": "f1ecb8d9",
   "metadata": {},
   "source": [
    "-->*args and **kwargs are used to pass a variable number of arguments to a function."
   ]
  },
  {
   "cell_type": "markdown",
   "id": "784c0fca",
   "metadata": {},
   "source": [
    " -->*args allows you to pass a variable number of non-keyword arguments to a function. The * syntax allows you to pass a varying number of arguments to the function, which are then treated as a tuple"
   ]
  },
  {
   "cell_type": "code",
   "execution_count": 23,
   "id": "d578a956",
   "metadata": {},
   "outputs": [
    {
     "name": "stdout",
     "output_type": "stream",
     "text": [
      "10\n"
     ]
    }
   ],
   "source": [
    "# example:\n",
    "\n",
    "def  summ(*args):\n",
    "    summ=0\n",
    "    for i in args:\n",
    "        summ+=i\n",
    "    return summ\n",
    "\n",
    "print(summ(1,2,3,4))"
   ]
  },
  {
   "cell_type": "markdown",
   "id": "1432febe",
   "metadata": {},
   "source": [
    "-->**kwargs allows you to pass a keyworded, variable-length argument list to a function.which are then treated as a dictionary."
   ]
  },
  {
   "cell_type": "code",
   "execution_count": 25,
   "id": "a2d8d896",
   "metadata": {},
   "outputs": [
    {
     "name": "stdout",
     "output_type": "stream",
     "text": [
      "first_name: Yash\n",
      "last_name: Srivastava\n"
     ]
    }
   ],
   "source": [
    "def full_name(**kwargs):\n",
    "    for key, value in kwargs.items():\n",
    "        print(f\"{key}: {value}\")\n",
    "        \n",
    "full_name(first_name=\"Yash\", last_name=\"Srivastava\")        "
   ]
  },
  {
   "cell_type": "markdown",
   "id": "e04ef91c",
   "metadata": {},
   "source": [
    "### Q3.  What is an iterator in python? Name the method used to initialise the iterator object and the method  used for iteration. Use these methods to print the first five elements of the given list [2, 4, 6, 8, 10, 12, 14,  16, 18, 20]."
   ]
  },
  {
   "cell_type": "code",
   "execution_count": null,
   "id": "f936ae37",
   "metadata": {},
   "outputs": [],
   "source": [
    "'''-->An iterator in Python is an object that implements the iterator protocol,\n",
    "      which consists of the methods __iter__ and __next__.'''"
   ]
  },
  {
   "cell_type": "code",
   "execution_count": null,
   "id": "e9e8d13d",
   "metadata": {},
   "outputs": [],
   "source": [
    "'''The __iter__ method returns the iterator object, \n",
    "   and the __next__ method returns the next value from the iterator.\n",
    "   You can create an iterator from a list using the iter function,\n",
    "   which returns an iterator object.\n",
    "   You can then iterate over the elements of the iterator using a for loop or the next function.'''"
   ]
  },
  {
   "cell_type": "code",
   "execution_count": 26,
   "id": "2ebac076",
   "metadata": {},
   "outputs": [
    {
     "name": "stdout",
     "output_type": "stream",
     "text": [
      "2\n",
      "4\n",
      "6\n",
      "8\n",
      "10\n"
     ]
    }
   ],
   "source": [
    "list=[2, 4, 6, 8, 10, 12, 14, 16, 18, 20]\n",
    "ite_1 =iter(list)\n",
    "\n",
    "for i in range(5):\n",
    "    print(next(ite_1))"
   ]
  },
  {
   "cell_type": "markdown",
   "id": "97e3c2d7",
   "metadata": {},
   "source": [
    "### Q4.  What is a generator function in python? Why yield keyword is used? Give an example of a generator  function. \n"
   ]
  },
  {
   "cell_type": "code",
   "execution_count": null,
   "id": "fec05087",
   "metadata": {},
   "outputs": [],
   "source": [
    "'''A generator function in Python is a special type of function that allows you to create a custom iterator.\n",
    "   Instead of using the return statement to return a value, a generator function uses the yield keyword. \n",
    "   The yield keyword returns a value and suspends the execution of the function, \n",
    "   saving its state so that it can be resumed later.'''"
   ]
  },
  {
   "cell_type": "code",
   "execution_count": 36,
   "id": "6b9a80c6",
   "metadata": {},
   "outputs": [
    {
     "name": "stdout",
     "output_type": "stream",
     "text": [
      "0, 1, 1, 2, 3, "
     ]
    }
   ],
   "source": [
    "# example of a generator function that generates the first n Fibonacci numbers\n",
    "def fibonacci(n):\n",
    "    a,b = 0,1\n",
    "    for i in range(n):\n",
    "        yield a\n",
    "        a, b = b, a + b\n",
    "\n",
    "for number in fibonacci(5):\n",
    "    print(number,end=\", \")"
   ]
  },
  {
   "cell_type": "markdown",
   "id": "5e252ec8",
   "metadata": {},
   "source": [
    "### Q5. Create a generator function for prime numbers less than 1000. Use the next() method to print the  first 20 prime numbers."
   ]
  },
  {
   "cell_type": "code",
   "execution_count": 29,
   "id": "074f9933",
   "metadata": {},
   "outputs": [
    {
     "name": "stdout",
     "output_type": "stream",
     "text": [
      "2, 3, 5, 7, 11, 13, 17, 19, 23, 29, 31, 37, 41, 43, 47, 53, 59, 61, 67, 71, "
     ]
    }
   ],
   "source": [
    "def get_primes():\n",
    "    primes = []\n",
    "    for num in range(2, 1000):\n",
    "        for prime in primes:\n",
    "            if num%prime == 0:\n",
    "                break\n",
    "        else:\n",
    "            primes.append(num)\n",
    "            yield num\n",
    "\n",
    "prime_gen = get_primes()\n",
    "for i in range(20):\n",
    "    print(next(prime_gen),end=\", \")"
   ]
  },
  {
   "cell_type": "markdown",
   "id": "db5bb950",
   "metadata": {},
   "source": [
    "### Q6. Write a python program to print the first 10 Fibonacci numbers using a while loop. \n"
   ]
  },
  {
   "cell_type": "code",
   "execution_count": 35,
   "id": "e3620ee0",
   "metadata": {},
   "outputs": [
    {
     "name": "stdout",
     "output_type": "stream",
     "text": [
      "0, 1, 1, 2, 3, 5, 8, 13, 21, 34, "
     ]
    }
   ],
   "source": [
    "def fibonacci(n):\n",
    "    a,b=0,1\n",
    "    list=[]\n",
    "    while n>0:\n",
    "        list.append(a)\n",
    "        \n",
    "        a,b=b,a+b\n",
    "        n=n-1\n",
    "        \n",
    "    return list\n",
    "\n",
    "for i in fibonacci(10):\n",
    "    print(i,end=\", \")"
   ]
  },
  {
   "cell_type": "markdown",
   "id": "b84bc0d4",
   "metadata": {},
   "source": [
    "### Q7. Write a List Comprehension to iterate through the given string: ‘pwskills’. \n",
    "Expected output: ['p', 'w', 's', 'k', 'i', 'l', 'l', 's']\n"
   ]
  },
  {
   "cell_type": "code",
   "execution_count": 38,
   "id": "6752dff0",
   "metadata": {},
   "outputs": [
    {
     "name": "stdout",
     "output_type": "stream",
     "text": [
      "['p', 'w', 's', 'k', 'i', 'l', 'l', 's']\n"
     ]
    }
   ],
   "source": [
    "string='pwskills'\n",
    "print([i for i in string])"
   ]
  },
  {
   "cell_type": "markdown",
   "id": "eca755fa",
   "metadata": {},
   "source": [
    "###  Q8. Write a python program to check whether a given number is Palindrome or not using a while loop. \n"
   ]
  },
  {
   "cell_type": "code",
   "execution_count": 41,
   "id": "47e9d635",
   "metadata": {},
   "outputs": [
    {
     "name": "stdout",
     "output_type": "stream",
     "text": [
      "Enter a number: 443\n",
      "The number is NOT palindrome\n"
     ]
    }
   ],
   "source": [
    "def palindrome(n):\n",
    "    \n",
    "    temp=n\n",
    "    rev=0\n",
    "    \n",
    "    while temp>0:\n",
    "        rev=(rev*10)+(temp%10)\n",
    "        temp= temp//10\n",
    "    return n==rev\n",
    "\n",
    "num=int(input(\"Enter a number: \"))\n",
    "\n",
    "if palindrome(num):\n",
    "    print('The number is palindrome')\n",
    "\n",
    "else:\n",
    "    print('The number is NOT palindrome')\n",
    "    "
   ]
  },
  {
   "cell_type": "markdown",
   "id": "e5c532d3",
   "metadata": {},
   "source": [
    "### Q9. Write a code to print odd numbers from 1 to 100 using list comprehension. \n",
    "Note: Use a list comprehension to create a list from 1 to 100 and use another List comprehension to filter  out odd numbers\n"
   ]
  },
  {
   "cell_type": "code",
   "execution_count": 43,
   "id": "17b525a1",
   "metadata": {},
   "outputs": [
    {
     "name": "stdout",
     "output_type": "stream",
     "text": [
      "[1, 2, 3, 4, 5, 6, 7, 8, 9, 10, 11, 12, 13, 14, 15, 16, 17, 18, 19, 20, 21, 22, 23, 24, 25, 26, 27, 28, 29, 30, 31, 32, 33, 34, 35, 36, 37, 38, 39, 40, 41, 42, 43, 44, 45, 46, 47, 48, 49, 50, 51, 52, 53, 54, 55, 56, 57, 58, 59, 60, 61, 62, 63, 64, 65, 66, 67, 68, 69, 70, 71, 72, 73, 74, 75, 76, 77, 78, 79, 80, 81, 82, 83, 84, 85, 86, 87, 88, 89, 90, 91, 92, 93, 94, 95, 96, 97, 98, 99, 100]"
     ]
    }
   ],
   "source": [
    "l1= [i for i in range(1,101)]\n",
    "print(l1,end=\"\")"
   ]
  },
  {
   "cell_type": "code",
   "execution_count": 46,
   "id": "668093cb",
   "metadata": {},
   "outputs": [
    {
     "name": "stdout",
     "output_type": "stream",
     "text": [
      "[1, 3, 5, 7, 9, 11, 13, 15, 17, 19, 21, 23, 25, 27, 29, 31, 33, 35, 37, 39, 41, 43, 45, 47, 49, 51, 53, 55, 57, 59, 61, 63, 65, 67, 69, 71, 73, 75, 77, 79, 81, 83, 85, 87, 89, 91, 93, 95, 97, 99]"
     ]
    }
   ],
   "source": [
    "l2=[i for i in l1 if i%2 != 0]\n",
    "print(l2,end=\"\")"
   ]
  },
  {
   "cell_type": "code",
   "execution_count": null,
   "id": "9d445fa0",
   "metadata": {},
   "outputs": [],
   "source": []
  }
 ],
 "metadata": {
  "kernelspec": {
   "display_name": "Python 3 (ipykernel)",
   "language": "python",
   "name": "python3"
  },
  "language_info": {
   "codemirror_mode": {
    "name": "ipython",
    "version": 3
   },
   "file_extension": ".py",
   "mimetype": "text/x-python",
   "name": "python",
   "nbconvert_exporter": "python",
   "pygments_lexer": "ipython3",
   "version": "3.9.7"
  }
 },
 "nbformat": 4,
 "nbformat_minor": 5
}
